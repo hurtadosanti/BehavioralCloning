{
 "cells": [
  {
   "cell_type": "code",
   "execution_count": 3,
   "metadata": {
    "collapsed": true
   },
   "outputs": [],
   "source": [
    "from zipfile import ZipFile\n",
    "import csv\n",
    "import cv2\n",
    "import pickle\n",
    "import numpy as np\n",
    "import pandas as pd\n",
    "from tensorflow.keras import models, layers"
   ]
  },
  {
   "source": [
    "log = pd.read_csv('./data/driving_log.csv')  \n",
    "log.drop(columns=['throttle','brake','speed'],inplace=True)\n",
    "log.head()\n"
   ],
   "cell_type": "code",
   "metadata": {
    "tags": []
   },
   "execution_count": 4,
   "outputs": [
    {
     "output_type": "execute_result",
     "data": {
      "text/plain": "                                   center  \\\n0  IMG/center_2016_12_01_13_30_48_287.jpg   \n1  IMG/center_2016_12_01_13_30_48_404.jpg   \n2  IMG/center_2016_12_01_13_31_12_937.jpg   \n3  IMG/center_2016_12_01_13_31_13_037.jpg   \n4  IMG/center_2016_12_01_13_31_13_177.jpg   \n\n                                    left  \\\n0   IMG/left_2016_12_01_13_30_48_287.jpg   \n1   IMG/left_2016_12_01_13_30_48_404.jpg   \n2   IMG/left_2016_12_01_13_31_12_937.jpg   \n3   IMG/left_2016_12_01_13_31_13_037.jpg   \n4   IMG/left_2016_12_01_13_31_13_177.jpg   \n\n                                    right  steering  \n0   IMG/right_2016_12_01_13_30_48_287.jpg       0.0  \n1   IMG/right_2016_12_01_13_30_48_404.jpg       0.0  \n2   IMG/right_2016_12_01_13_31_12_937.jpg       0.0  \n3   IMG/right_2016_12_01_13_31_13_037.jpg       0.0  \n4   IMG/right_2016_12_01_13_31_13_177.jpg       0.0  ",
      "text/html": "<div>\n<style scoped>\n    .dataframe tbody tr th:only-of-type {\n        vertical-align: middle;\n    }\n\n    .dataframe tbody tr th {\n        vertical-align: top;\n    }\n\n    .dataframe thead th {\n        text-align: right;\n    }\n</style>\n<table border=\"1\" class=\"dataframe\">\n  <thead>\n    <tr style=\"text-align: right;\">\n      <th></th>\n      <th>center</th>\n      <th>left</th>\n      <th>right</th>\n      <th>steering</th>\n    </tr>\n  </thead>\n  <tbody>\n    <tr>\n      <th>0</th>\n      <td>IMG/center_2016_12_01_13_30_48_287.jpg</td>\n      <td>IMG/left_2016_12_01_13_30_48_287.jpg</td>\n      <td>IMG/right_2016_12_01_13_30_48_287.jpg</td>\n      <td>0.0</td>\n    </tr>\n    <tr>\n      <th>1</th>\n      <td>IMG/center_2016_12_01_13_30_48_404.jpg</td>\n      <td>IMG/left_2016_12_01_13_30_48_404.jpg</td>\n      <td>IMG/right_2016_12_01_13_30_48_404.jpg</td>\n      <td>0.0</td>\n    </tr>\n    <tr>\n      <th>2</th>\n      <td>IMG/center_2016_12_01_13_31_12_937.jpg</td>\n      <td>IMG/left_2016_12_01_13_31_12_937.jpg</td>\n      <td>IMG/right_2016_12_01_13_31_12_937.jpg</td>\n      <td>0.0</td>\n    </tr>\n    <tr>\n      <th>3</th>\n      <td>IMG/center_2016_12_01_13_31_13_037.jpg</td>\n      <td>IMG/left_2016_12_01_13_31_13_037.jpg</td>\n      <td>IMG/right_2016_12_01_13_31_13_037.jpg</td>\n      <td>0.0</td>\n    </tr>\n    <tr>\n      <th>4</th>\n      <td>IMG/center_2016_12_01_13_31_13_177.jpg</td>\n      <td>IMG/left_2016_12_01_13_31_13_177.jpg</td>\n      <td>IMG/right_2016_12_01_13_31_13_177.jpg</td>\n      <td>0.0</td>\n    </tr>\n  </tbody>\n</table>\n</div>"
     },
     "metadata": {},
     "execution_count": 4
    }
   ]
  },
  {
   "cell_type": "code",
   "execution_count": 21,
   "metadata": {},
   "outputs": [],
   "source": [
    "def flip(images,labels):\n",
    "    result_images =[]\n",
    "    result_measures =[]\n",
    "    for i,img in enumerate(images):\n",
    "        flip_image = np.fliplr(img)\n",
    "        result_images.append(flip_image)\n",
    "        flip_measure = -labels[i]\n",
    "        result_measures.append(flip_measure)\n",
    "    return np.asarray(result_images),np.asarray(result_measures)\n",
    "\n",
    "def image_generator(logs, batch_size, mode=\"train\"):\n",
    "    while True:\n",
    "        start = 0\n",
    "        end = batch_size\n",
    "        while start  < len(logs):\n",
    "            selected = logs[start:end]\n",
    "            images,labels = batch_loader(selected)\n",
    "            yield images,labels\n",
    "            start += batch_size\n",
    "            end += batch_size\n",
    "\n",
    "def batch_loader(log_select):\n",
    "    images = []\n",
    "    measurements = []\n",
    "    for l in log_select.itertuples():\n",
    "        path = './data/'+l.center\n",
    "        image = cv2.imread(path)\n",
    "        if image is not None :\n",
    "            # normal image\n",
    "            images.append(image)\n",
    "            measure = l.steering\n",
    "            measurements.append(measure)\n",
    "        else:\n",
    "            print('Image not read',path)\n",
    "    return np.asarray(images),np.asarray(measurements)"
   ]
  },
  {
   "cell_type": "code",
   "execution_count": 20,
   "metadata": {
    "tags": []
   },
   "outputs": [
    {
     "output_type": "stream",
     "name": "stdout",
     "text": "(1, 160, 320, 3) (1,)\n(9, 160, 320, 3) (9,)\n"
    }
   ],
   "source": [
    "images,labels = batch_loader(log[1:2])\n",
    "print(images.shape,labels.shape)\n",
    "generator = image_generator(log[1:10],10)\n",
    "images,labels = next(generator)\n",
    "print(images.shape,labels.shape)"
   ]
  },
  {
   "cell_type": "code",
   "execution_count": 23,
   "metadata": {
    "tags": []
   },
   "outputs": [],
   "source": [
    "img_shape = (160, 320, 3)"
   ]
  },
  {
   "cell_type": "code",
   "execution_count": 29,
   "outputs": [],
   "source": [
    "model = models.Sequential()\n",
    "model.add(layers.Convolution2D(6,5,5,activation='relu',input_shape=img_shape))\n",
    "model.add(layers.MaxPooling2D())\n",
    "model.add(layers.Dropout(0.25))\n",
    "model.add(layers.Convolution2D(6,5,5,activation='relu'))\n",
    "model.add(layers.MaxPooling2D())\n",
    "model.add(layers.Flatten())\n",
    "model.add(layers.Dense(120))\n",
    "model.add(layers.Dropout(0.25))\n",
    "model.add(layers.Dense(84))\n",
    "model.add(layers.Dense(1))\n",
    "model.compile(loss='mse', optimizer='adam',metrics=['accuracy'])"
   ],
   "metadata": {
    "collapsed": false,
    "pycharm": {
     "name": "#%%\n"
    }
   }
  },
  {
   "cell_type": "code",
   "execution_count": 30,
   "outputs": [
    {
     "output_type": "stream",
     "name": "stdout",
     "text": "Epoch 1/2\n50/50 [==============================] - 3s 65ms/step - loss: 797.3839 - accuracy: 0.3756\nEpoch 2/2\n50/50 [==============================] - 3s 64ms/step - loss: 62.5958 - accuracy: 0.4036\n"
    }
   ],
   "source": [
    "history = model.fit(image_generator(log[:100],50),\n",
    "        shuffle=True,\n",
    "        steps_per_epoch=50,\n",
    "        epochs=2,\n",
    "        verbose=1)\n"
   ],
   "metadata": {
    "collapsed": false,
    "pycharm": {
     "name": "#%%\n"
    },
    "tags": []
   }
  },
  {
   "cell_type": "code",
   "execution_count": 18,
   "outputs": [],
   "source": [
    "model.save('model.h5')\n"
   ],
   "metadata": {
    "collapsed": false,
    "pycharm": {
     "name": "#%%\n"
    }
   }
  }
 ],
 "metadata": {
  "kernelspec": {
   "name": "Python 3.8.5 64-bit ('BehavioralCloning': conda)",
   "display_name": "Python 3.8.5 64-bit ('BehavioralCloning': conda)",
   "metadata": {
    "interpreter": {
     "hash": "87e856bea4f847da699a842cd28124cd45b11490d21b43b227ee70afaeccd492"
    }
   }
  },
  "language_info": {
   "codemirror_mode": {
    "name": "ipython",
    "version": 2
   },
   "file_extension": ".py",
   "mimetype": "text/x-python",
   "name": "python",
   "nbconvert_exporter": "python",
   "pygments_lexer": "ipython2",
   "version": "3.8.5-final"
  }
 },
 "nbformat": 4,
 "nbformat_minor": 0
}